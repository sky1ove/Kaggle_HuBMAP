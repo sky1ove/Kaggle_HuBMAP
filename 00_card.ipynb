{
  "nbformat": 4,
  "nbformat_minor": 0,
  "metadata": {
    "kernelspec": {
      "display_name": "Python 3",
      "language": "python",
      "name": "python3"
    },
    "colab": {
      "name": "00_card.ipynb",
      "provenance": [],
      "include_colab_link": true
    }
  },
  "cells": [
    {
      "cell_type": "markdown",
      "metadata": {
        "id": "view-in-github",
        "colab_type": "text"
      },
      "source": [
        "<a href=\"https://colab.research.google.com/github/sky1ove/Kaggle_HuBMAP/blob/main/00_card.ipynb\" target=\"_parent\"><img src=\"https://colab.research.google.com/assets/colab-badge.svg\" alt=\"Open In Colab\"/></a>"
      ]
    },
    {
      "cell_type": "code",
      "metadata": {
        "id": "-9NpwRw_0obf"
      },
      "source": [
        "# default_exp card"
      ],
      "execution_count": null,
      "outputs": []
    },
    {
      "cell_type": "markdown",
      "metadata": {
        "id": "o3ykDIp50obm"
      },
      "source": [
        "# Card\n",
        "\n",
        "> API details."
      ]
    },
    {
      "cell_type": "code",
      "metadata": {
        "id": "0RMYB8Dy0obn"
      },
      "source": [
        "#hide\n",
        "from nbdev.showdoc import *"
      ],
      "execution_count": null,
      "outputs": []
    },
    {
      "cell_type": "code",
      "metadata": {
        "id": "yPn9lSIB0obn"
      },
      "source": [
        "#export \n",
        "from __future__ import print_function, division\n",
        "\n",
        "import random\n",
        "\n",
        "\n",
        "class Card:\n",
        "    \"\"\"Represents a standard playing card.\n",
        "    \n",
        "    Attributes:\n",
        "      suit: integer 0-3\n",
        "      rank: integer 1-13\n",
        "    \"\"\"\n",
        "\n",
        "    suit_names = [\"Clubs\", \"Diamonds\", \"Hearts\", \"Spades\"]\n",
        "    rank_names = [None, \"Ace\", \"2\", \"3\", \"4\", \"5\", \"6\", \"7\", \n",
        "              \"8\", \"9\", \"10\", \"Jack\", \"Queen\", \"King\"]\n",
        "\n",
        "    def __init__(self, suit=0, rank=2):\n",
        "        self.suit = suit\n",
        "        self.rank = rank\n",
        "\n",
        "    def __str__(self):\n",
        "        \"\"\"Returns a human-readable string representation.\"\"\"\n",
        "        return '%s of %s' % (Card.rank_names[self.rank],\n",
        "                             Card.suit_names[self.suit])\n",
        "\n",
        "    def __eq__(self, other) -> bool:\n",
        "        \"\"\"Checks whether self and other have the same rank and suit.\n",
        "        \"\"\"\n",
        "        return self.suit == other.suit and self.rank == other.rank\n",
        "\n",
        "    def __lt__(self, other) -> bool:\n",
        "        \"\"\"Compares this card to other, first by suit, then rank.\n",
        "        \"\"\"\n",
        "        t1 = self.suit, self.rank\n",
        "        t2 = other.suit, other.rank\n",
        "        return t1 < t2\n",
        "    \n",
        "    def __repr__(self): return self.__str__()\n",
        "    \n",
        "    def foo(): pass"
      ],
      "execution_count": null,
      "outputs": []
    },
    {
      "cell_type": "markdown",
      "metadata": {
        "id": "yeQk9Kxn0obo"
      },
      "source": [
        "`Card` is a class that represents a single card in a deck of cards. For example:"
      ]
    },
    {
      "cell_type": "code",
      "metadata": {
        "id": "h8Aha6M-0obo",
        "outputId": "23103343-63b7-40a8-a5f1-0e4dd6fa7585"
      },
      "source": [
        "Card(suit=2, rank=11)"
      ],
      "execution_count": null,
      "outputs": [
        {
          "output_type": "execute_result",
          "data": {
            "text/plain": [
              "Jack of Hearts"
            ]
          },
          "metadata": {
            "tags": []
          },
          "execution_count": 0
        }
      ]
    },
    {
      "cell_type": "code",
      "metadata": {
        "id": "HGXrkfSV0obq"
      },
      "source": [
        "c = Card(suit=1, rank=3)\n",
        "assert str(c) == '3 of Diamonds'\n",
        "\n",
        "c2 = Card(suit=2, rank=11)\n",
        "assert str(c2) == 'Jack of Hearts'"
      ],
      "execution_count": null,
      "outputs": []
    },
    {
      "cell_type": "markdown",
      "metadata": {
        "id": "_JvtqGHy0obq"
      },
      "source": [
        "You can do comparisons of cards, too!"
      ]
    },
    {
      "cell_type": "code",
      "metadata": {
        "id": "4hy_pe6k0obq"
      },
      "source": [
        "assert c2 > c"
      ],
      "execution_count": null,
      "outputs": []
    },
    {
      "cell_type": "markdown",
      "metadata": {
        "id": "mFzrgdkH0obr"
      },
      "source": [
        "> Note: Look at [fastcore's testing utilities](https://fastcore.fast.ai/test.html) for convenience functions that print out helpful error messages by default when there is an error.  These convenience functions are an improvement upon using assert."
      ]
    },
    {
      "cell_type": "markdown",
      "metadata": {
        "id": "r_rPeR6Z0obr"
      },
      "source": [
        "You can show the docs for methods by calling `show_doc`.  For example, the code `show_doc(Card.__eq__)` produces the following documentation:"
      ]
    },
    {
      "cell_type": "code",
      "metadata": {
        "id": "U63ycwj-0obr",
        "outputId": "32e4d760-4d9a-4203-ab75-24afe15ef981"
      },
      "source": [
        "show_doc(Card.__eq__)"
      ],
      "execution_count": null,
      "outputs": [
        {
          "output_type": "display_data",
          "data": {
            "text/markdown": "<h4 id=\"Card.__eq__\" class=\"doc_header\"><code>Card.__eq__</code><a href=\"__main__.py#L28\" class=\"source_link\" style=\"float:right\">[source]</a></h4>\n\n> <code>Card.__eq__</code>(**`other`**)\n\nChecks whether self and other have the same rank and suit.\n        ",
            "text/plain": [
              "<IPython.core.display.Markdown object>"
            ]
          },
          "metadata": {
            "tags": []
          }
        }
      ]
    },
    {
      "cell_type": "code",
      "metadata": {
        "id": "KeamCPiq0obs"
      },
      "source": [
        "card1 = Card(suit=1, rank=3)\n",
        "card2 = Card(suit=1, rank=3)\n",
        "assert card1 == card2"
      ],
      "execution_count": null,
      "outputs": []
    },
    {
      "cell_type": "code",
      "metadata": {
        "id": "M9ZS-2B80obs"
      },
      "source": [
        ""
      ],
      "execution_count": null,
      "outputs": []
    }
  ]
}